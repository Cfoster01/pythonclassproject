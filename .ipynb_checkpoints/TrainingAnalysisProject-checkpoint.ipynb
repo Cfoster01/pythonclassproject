{
 "cells": [
  {
   "cell_type": "markdown",
   "metadata": {},
   "source": [
    "# Training Analysis Project For Code Louisville Summer 2020 Program"
   ]
  },
  {
   "cell_type": "markdown",
   "metadata": {},
   "source": [
    "## Import pandas and CSV file\n",
    "Import pandas and read the Samplecomments2 CSV file, storing it in df"
   ]
  },
  {
   "cell_type": "code",
   "execution_count": 3,
   "metadata": {},
   "outputs": [],
   "source": [
    "import pandas as pd"
   ]
  },
  {
   "cell_type": "code",
   "execution_count": 4,
   "metadata": {},
   "outputs": [],
   "source": [
    "df = pd.read_csv('Samplecomments2.csv')"
   ]
  },
  {
   "cell_type": "markdown",
   "metadata": {},
   "source": [
    "## Take a look at the data in the CSV \n",
    "Use: \n",
    "- .head to see the data in a spreadsheet format\n",
    "- .shape to see how many rows/columns there are"
   ]
  },
  {
   "cell_type": "code",
   "execution_count": null,
   "metadata": {},
   "outputs": [],
   "source": []
  },
  {
   "cell_type": "markdown",
   "metadata": {},
   "source": [
    "## Look at how people responded to the \"Receiving\" question\n",
    "Take a look at how many people said they are receiving what they need to train their people on promotions versus the number of people who do not."
   ]
  },
  {
   "cell_type": "code",
   "execution_count": null,
   "metadata": {},
   "outputs": [],
   "source": []
  },
  {
   "cell_type": "markdown",
   "metadata": {},
   "source": [
    "## Examine the OSC scores compared to the \"Receiving\" response\n",
    "Print:\n",
    "- Average OSC score of those who said no vs. yes\n",
    "- Median OSC score of no vs.  yes"
   ]
  },
  {
   "cell_type": "code",
   "execution_count": null,
   "metadata": {},
   "outputs": [],
   "source": []
  },
  {
   "cell_type": "markdown",
   "metadata": {},
   "source": [
    "## Look at responses to the \"Wish\" question\n",
    "Keeping in mind that people can select multiple wishes, analyze:\n",
    "- How many people selected shorter training\n",
    "- Splitting up every entry and stack so each individual item can be counted; then, check the count for each"
   ]
  },
  {
   "cell_type": "code",
   "execution_count": null,
   "metadata": {},
   "outputs": [],
   "source": []
  }
 ],
 "metadata": {
  "kernelspec": {
   "display_name": "Python 3",
   "language": "python",
   "name": "python3"
  },
  "language_info": {
   "codemirror_mode": {
    "name": "ipython",
    "version": 3
   },
   "file_extension": ".py",
   "mimetype": "text/x-python",
   "name": "python",
   "nbconvert_exporter": "python",
   "pygments_lexer": "ipython3",
   "version": "3.8.2"
  }
 },
 "nbformat": 4,
 "nbformat_minor": 4
}
