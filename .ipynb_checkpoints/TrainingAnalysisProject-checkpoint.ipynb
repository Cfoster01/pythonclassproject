{
 "cells": [
  {
   "cell_type": "markdown",
   "metadata": {},
   "source": [
    "# Training Analysis Project For Code Louisville Summer 2020 Program"
   ]
  },
  {
   "cell_type": "markdown",
   "metadata": {},
   "source": [
    "## Import pandas and CSV file\n",
    "Import pandas and read the Samplecomments2 CSV file, storing it in df"
   ]
  },
  {
   "cell_type": "code",
   "execution_count": 191,
   "metadata": {},
   "outputs": [],
   "source": [
    "import pandas as pd"
   ]
  },
  {
   "cell_type": "code",
   "execution_count": 192,
   "metadata": {},
   "outputs": [],
   "source": [
    "training_df = pd.read_csv('Samplecomments2.csv')\n",
    "restaurant_df = pd.read_csv('Restaurantdata.csv')"
   ]
  },
  {
   "cell_type": "markdown",
   "metadata": {},
   "source": [
    "## Take a look at the data in the CSV Files\n",
    "Use: \n",
    "- .head to see the data in a spreadsheet format (put 10 in the parentheses to see all 10 rows)\n",
    "- .shape to see how many rows/columns there are\n",
    "\n",
    "Determine where there's a matching individual identifier to combine both DataFrames."
   ]
  },
  {
   "cell_type": "code",
   "execution_count": 193,
   "metadata": {},
   "outputs": [
    {
     "data": {
      "text/html": [
       "<div>\n",
       "<style scoped>\n",
       "    .dataframe tbody tr th:only-of-type {\n",
       "        vertical-align: middle;\n",
       "    }\n",
       "\n",
       "    .dataframe tbody tr th {\n",
       "        vertical-align: top;\n",
       "    }\n",
       "\n",
       "    .dataframe thead th {\n",
       "        text-align: right;\n",
       "    }\n",
       "</style>\n",
       "<table border=\"1\" class=\"dataframe\">\n",
       "  <thead>\n",
       "    <tr style=\"text-align: right;\">\n",
       "      <th></th>\n",
       "      <th>Username</th>\n",
       "      <th>Date</th>\n",
       "      <th>Restaurant</th>\n",
       "      <th>OSC</th>\n",
       "      <th>Receiving</th>\n",
       "      <th>Wish</th>\n",
       "      <th>Feedback</th>\n",
       "    </tr>\n",
       "  </thead>\n",
       "  <tbody>\n",
       "    <tr>\n",
       "      <th>0</th>\n",
       "      <td>ABC123</td>\n",
       "      <td>5/20/2020</td>\n",
       "      <td>B000001</td>\n",
       "      <td>4.00</td>\n",
       "      <td>Yes</td>\n",
       "      <td>Shorter; More shoulder-to-shoulder</td>\n",
       "      <td>I love the training!</td>\n",
       "    </tr>\n",
       "    <tr>\n",
       "      <th>1</th>\n",
       "      <td>ABC234</td>\n",
       "      <td>5/20/2020</td>\n",
       "      <td>B000002</td>\n",
       "      <td>3.20</td>\n",
       "      <td>No</td>\n",
       "      <td>More shoulder-to-shoulder</td>\n",
       "      <td>The training is alright.</td>\n",
       "    </tr>\n",
       "    <tr>\n",
       "      <th>2</th>\n",
       "      <td>ABC345</td>\n",
       "      <td>5/20/2020</td>\n",
       "      <td>B000003</td>\n",
       "      <td>3.80</td>\n",
       "      <td>Yes</td>\n",
       "      <td>More computer</td>\n",
       "      <td>Training is okay.</td>\n",
       "    </tr>\n",
       "    <tr>\n",
       "      <th>3</th>\n",
       "      <td>ABC456</td>\n",
       "      <td>5/20/2020</td>\n",
       "      <td>B000004</td>\n",
       "      <td>2.80</td>\n",
       "      <td>No</td>\n",
       "      <td>Longer</td>\n",
       "      <td>Training is terrible.</td>\n",
       "    </tr>\n",
       "    <tr>\n",
       "      <th>4</th>\n",
       "      <td>ABC567</td>\n",
       "      <td>5/19/2020</td>\n",
       "      <td>B000005</td>\n",
       "      <td>2.50</td>\n",
       "      <td>No</td>\n",
       "      <td>Shorter; More shoulder-to-shoulder</td>\n",
       "      <td>I hate the training.</td>\n",
       "    </tr>\n",
       "    <tr>\n",
       "      <th>5</th>\n",
       "      <td>ABC678</td>\n",
       "      <td>5/19/2020</td>\n",
       "      <td>B000006</td>\n",
       "      <td>3.10</td>\n",
       "      <td>No</td>\n",
       "      <td>Shorter; More computer</td>\n",
       "      <td>I wish I didn't have to take the training.</td>\n",
       "    </tr>\n",
       "    <tr>\n",
       "      <th>6</th>\n",
       "      <td>ABC789</td>\n",
       "      <td>5/19/2020</td>\n",
       "      <td>B000007</td>\n",
       "      <td>3.60</td>\n",
       "      <td>Yes</td>\n",
       "      <td>Shorter</td>\n",
       "      <td>The training is pretty good.</td>\n",
       "    </tr>\n",
       "    <tr>\n",
       "      <th>7</th>\n",
       "      <td>ABC890</td>\n",
       "      <td>5/15/2020</td>\n",
       "      <td>B000008</td>\n",
       "      <td>3.80</td>\n",
       "      <td>Yes</td>\n",
       "      <td>More shoulder-to-shoulder</td>\n",
       "      <td>The training is really helpful.</td>\n",
       "    </tr>\n",
       "    <tr>\n",
       "      <th>8</th>\n",
       "      <td>ABC901</td>\n",
       "      <td>5/15/2020</td>\n",
       "      <td>B000009</td>\n",
       "      <td>3.95</td>\n",
       "      <td>Yes</td>\n",
       "      <td>Longer; More shoulder-to-shoulder</td>\n",
       "      <td>Training helps my team and I perform our jobs ...</td>\n",
       "    </tr>\n",
       "    <tr>\n",
       "      <th>9</th>\n",
       "      <td>ABC902</td>\n",
       "      <td>5/14/2020</td>\n",
       "      <td>B000010</td>\n",
       "      <td>2.50</td>\n",
       "      <td>No</td>\n",
       "      <td>More computer</td>\n",
       "      <td>Training is a waste of time and I don't want i...</td>\n",
       "    </tr>\n",
       "  </tbody>\n",
       "</table>\n",
       "</div>"
      ],
      "text/plain": [
       "  Username       Date Restaurant   OSC Receiving  \\\n",
       "0   ABC123  5/20/2020    B000001  4.00       Yes   \n",
       "1   ABC234  5/20/2020    B000002  3.20        No   \n",
       "2   ABC345  5/20/2020    B000003  3.80       Yes   \n",
       "3   ABC456  5/20/2020    B000004  2.80        No   \n",
       "4   ABC567  5/19/2020    B000005  2.50        No   \n",
       "5   ABC678  5/19/2020    B000006  3.10        No   \n",
       "6   ABC789  5/19/2020    B000007  3.60       Yes   \n",
       "7   ABC890  5/15/2020    B000008  3.80       Yes   \n",
       "8   ABC901  5/15/2020    B000009  3.95       Yes   \n",
       "9   ABC902  5/14/2020    B000010  2.50        No   \n",
       "\n",
       "                                 Wish  \\\n",
       "0  Shorter; More shoulder-to-shoulder   \n",
       "1           More shoulder-to-shoulder   \n",
       "2                       More computer   \n",
       "3                              Longer   \n",
       "4  Shorter; More shoulder-to-shoulder   \n",
       "5              Shorter; More computer   \n",
       "6                             Shorter   \n",
       "7           More shoulder-to-shoulder   \n",
       "8   Longer; More shoulder-to-shoulder   \n",
       "9                       More computer   \n",
       "\n",
       "                                            Feedback  \n",
       "0                               I love the training!  \n",
       "1                           The training is alright.  \n",
       "2                                  Training is okay.  \n",
       "3                              Training is terrible.  \n",
       "4                               I hate the training.  \n",
       "5         I wish I didn't have to take the training.  \n",
       "6                       The training is pretty good.  \n",
       "7                    The training is really helpful.  \n",
       "8  Training helps my team and I perform our jobs ...  \n",
       "9  Training is a waste of time and I don't want i...  "
      ]
     },
     "execution_count": 193,
     "metadata": {},
     "output_type": "execute_result"
    }
   ],
   "source": [
    "training_df.head(10)"
   ]
  },
  {
   "cell_type": "code",
   "execution_count": 194,
   "metadata": {},
   "outputs": [
    {
     "data": {
      "text/plain": [
       "(10, 7)"
      ]
     },
     "execution_count": 194,
     "metadata": {},
     "output_type": "execute_result"
    }
   ],
   "source": [
    "training_df.shape"
   ]
  },
  {
   "cell_type": "code",
   "execution_count": 195,
   "metadata": {},
   "outputs": [
    {
     "data": {
      "text/html": [
       "<div>\n",
       "<style scoped>\n",
       "    .dataframe tbody tr th:only-of-type {\n",
       "        vertical-align: middle;\n",
       "    }\n",
       "\n",
       "    .dataframe tbody tr th {\n",
       "        vertical-align: top;\n",
       "    }\n",
       "\n",
       "    .dataframe thead th {\n",
       "        text-align: right;\n",
       "    }\n",
       "</style>\n",
       "<table border=\"1\" class=\"dataframe\">\n",
       "  <thead>\n",
       "    <tr style=\"text-align: right;\">\n",
       "      <th></th>\n",
       "      <th>Restaurant</th>\n",
       "      <th>SalesMil</th>\n",
       "      <th>Safety</th>\n",
       "      <th>WindowSeconds</th>\n",
       "      <th>BestofBestAward</th>\n",
       "      <th>FullyTrained</th>\n",
       "      <th>Staff</th>\n",
       "      <th>FollowSchedule</th>\n",
       "    </tr>\n",
       "  </thead>\n",
       "  <tbody>\n",
       "    <tr>\n",
       "      <th>0</th>\n",
       "      <td>B000001</td>\n",
       "      <td>$2.2</td>\n",
       "      <td>Yes</td>\n",
       "      <td>65</td>\n",
       "      <td>Yes</td>\n",
       "      <td>Yes</td>\n",
       "      <td>40</td>\n",
       "      <td>Yes</td>\n",
       "    </tr>\n",
       "    <tr>\n",
       "      <th>1</th>\n",
       "      <td>B000002</td>\n",
       "      <td>$2.1</td>\n",
       "      <td>Yes</td>\n",
       "      <td>80</td>\n",
       "      <td>No</td>\n",
       "      <td>Yes</td>\n",
       "      <td>36</td>\n",
       "      <td>Yes</td>\n",
       "    </tr>\n",
       "    <tr>\n",
       "      <th>2</th>\n",
       "      <td>B000003</td>\n",
       "      <td>$2.0</td>\n",
       "      <td>Yes</td>\n",
       "      <td>75</td>\n",
       "      <td>Yes</td>\n",
       "      <td>Yes</td>\n",
       "      <td>38</td>\n",
       "      <td>Yes</td>\n",
       "    </tr>\n",
       "    <tr>\n",
       "      <th>3</th>\n",
       "      <td>B000004</td>\n",
       "      <td>$1.6</td>\n",
       "      <td>Yes</td>\n",
       "      <td>120</td>\n",
       "      <td>No</td>\n",
       "      <td>Yes</td>\n",
       "      <td>17</td>\n",
       "      <td>No</td>\n",
       "    </tr>\n",
       "    <tr>\n",
       "      <th>4</th>\n",
       "      <td>B000005</td>\n",
       "      <td>$1.2</td>\n",
       "      <td>No</td>\n",
       "      <td>130</td>\n",
       "      <td>No</td>\n",
       "      <td>No</td>\n",
       "      <td>13</td>\n",
       "      <td>No</td>\n",
       "    </tr>\n",
       "  </tbody>\n",
       "</table>\n",
       "</div>"
      ],
      "text/plain": [
       "  Restaurant SalesMil Safety  WindowSeconds BestofBestAward FullyTrained  \\\n",
       "0    B000001    $2.2     Yes             65             Yes          Yes   \n",
       "1    B000002    $2.1     Yes             80              No          Yes   \n",
       "2    B000003    $2.0     Yes             75             Yes          Yes   \n",
       "3    B000004    $1.6     Yes            120              No          Yes   \n",
       "4    B000005    $1.2      No            130              No           No   \n",
       "\n",
       "   Staff FollowSchedule  \n",
       "0     40            Yes  \n",
       "1     36            Yes  \n",
       "2     38            Yes  \n",
       "3     17             No  \n",
       "4     13             No  "
      ]
     },
     "execution_count": 195,
     "metadata": {},
     "output_type": "execute_result"
    }
   ],
   "source": [
    "restaurant_df.head()"
   ]
  },
  {
   "cell_type": "code",
   "execution_count": 196,
   "metadata": {},
   "outputs": [
    {
     "data": {
      "text/plain": [
       "(20, 8)"
      ]
     },
     "execution_count": 196,
     "metadata": {},
     "output_type": "execute_result"
    }
   ],
   "source": [
    "restaurant_df.shape"
   ]
  },
  {
   "cell_type": "markdown",
   "metadata": {},
   "source": [
    "## Combine DataFrames\n",
    "\n",
    "Join the two DataFrames (training_df & restaurant_df) into a new one for analysis purposes. Restaurant_df contains more data, but we only care about looking at restaurants that completed the training survey (training_df), so we will want to do a left join. \n",
    "\n",
    "Convert Wish & Feedback columns to lowercase to avoid errors later on."
   ]
  },
  {
   "cell_type": "code",
   "execution_count": 197,
   "metadata": {},
   "outputs": [],
   "source": [
    "complete_df = pd.merge(left=training_df, right=restaurant_df, how='left', left_on='Restaurant', right_on='Restaurant')"
   ]
  },
  {
   "cell_type": "code",
   "execution_count": 198,
   "metadata": {},
   "outputs": [],
   "source": [
    "complete_df['Wish'] = complete_df['Wish'].str.lower()\n",
    "complete_df['Feedback'] = complete_df['Feedback'].str.lower()"
   ]
  },
  {
   "cell_type": "code",
   "execution_count": 199,
   "metadata": {},
   "outputs": [
    {
     "data": {
      "text/html": [
       "<div>\n",
       "<style scoped>\n",
       "    .dataframe tbody tr th:only-of-type {\n",
       "        vertical-align: middle;\n",
       "    }\n",
       "\n",
       "    .dataframe tbody tr th {\n",
       "        vertical-align: top;\n",
       "    }\n",
       "\n",
       "    .dataframe thead th {\n",
       "        text-align: right;\n",
       "    }\n",
       "</style>\n",
       "<table border=\"1\" class=\"dataframe\">\n",
       "  <thead>\n",
       "    <tr style=\"text-align: right;\">\n",
       "      <th></th>\n",
       "      <th>Username</th>\n",
       "      <th>Date</th>\n",
       "      <th>Restaurant</th>\n",
       "      <th>OSC</th>\n",
       "      <th>Receiving</th>\n",
       "      <th>Wish</th>\n",
       "      <th>Feedback</th>\n",
       "      <th>SalesMil</th>\n",
       "      <th>Safety</th>\n",
       "      <th>WindowSeconds</th>\n",
       "      <th>BestofBestAward</th>\n",
       "      <th>FullyTrained</th>\n",
       "      <th>Staff</th>\n",
       "      <th>FollowSchedule</th>\n",
       "    </tr>\n",
       "  </thead>\n",
       "  <tbody>\n",
       "    <tr>\n",
       "      <th>0</th>\n",
       "      <td>ABC123</td>\n",
       "      <td>5/20/2020</td>\n",
       "      <td>B000001</td>\n",
       "      <td>4.00</td>\n",
       "      <td>Yes</td>\n",
       "      <td>shorter; more shoulder-to-shoulder</td>\n",
       "      <td>i love the training!</td>\n",
       "      <td>$2.2</td>\n",
       "      <td>Yes</td>\n",
       "      <td>65</td>\n",
       "      <td>Yes</td>\n",
       "      <td>Yes</td>\n",
       "      <td>40</td>\n",
       "      <td>Yes</td>\n",
       "    </tr>\n",
       "    <tr>\n",
       "      <th>1</th>\n",
       "      <td>ABC234</td>\n",
       "      <td>5/20/2020</td>\n",
       "      <td>B000002</td>\n",
       "      <td>3.20</td>\n",
       "      <td>No</td>\n",
       "      <td>more shoulder-to-shoulder</td>\n",
       "      <td>the training is alright.</td>\n",
       "      <td>$2.1</td>\n",
       "      <td>Yes</td>\n",
       "      <td>80</td>\n",
       "      <td>No</td>\n",
       "      <td>Yes</td>\n",
       "      <td>36</td>\n",
       "      <td>Yes</td>\n",
       "    </tr>\n",
       "    <tr>\n",
       "      <th>2</th>\n",
       "      <td>ABC345</td>\n",
       "      <td>5/20/2020</td>\n",
       "      <td>B000003</td>\n",
       "      <td>3.80</td>\n",
       "      <td>Yes</td>\n",
       "      <td>more computer</td>\n",
       "      <td>training is okay.</td>\n",
       "      <td>$2.0</td>\n",
       "      <td>Yes</td>\n",
       "      <td>75</td>\n",
       "      <td>Yes</td>\n",
       "      <td>Yes</td>\n",
       "      <td>38</td>\n",
       "      <td>Yes</td>\n",
       "    </tr>\n",
       "    <tr>\n",
       "      <th>3</th>\n",
       "      <td>ABC456</td>\n",
       "      <td>5/20/2020</td>\n",
       "      <td>B000004</td>\n",
       "      <td>2.80</td>\n",
       "      <td>No</td>\n",
       "      <td>longer</td>\n",
       "      <td>training is terrible.</td>\n",
       "      <td>$1.6</td>\n",
       "      <td>Yes</td>\n",
       "      <td>120</td>\n",
       "      <td>No</td>\n",
       "      <td>Yes</td>\n",
       "      <td>17</td>\n",
       "      <td>No</td>\n",
       "    </tr>\n",
       "    <tr>\n",
       "      <th>4</th>\n",
       "      <td>ABC567</td>\n",
       "      <td>5/19/2020</td>\n",
       "      <td>B000005</td>\n",
       "      <td>2.50</td>\n",
       "      <td>No</td>\n",
       "      <td>shorter; more shoulder-to-shoulder</td>\n",
       "      <td>i hate the training.</td>\n",
       "      <td>$1.2</td>\n",
       "      <td>No</td>\n",
       "      <td>130</td>\n",
       "      <td>No</td>\n",
       "      <td>No</td>\n",
       "      <td>13</td>\n",
       "      <td>No</td>\n",
       "    </tr>\n",
       "    <tr>\n",
       "      <th>5</th>\n",
       "      <td>ABC678</td>\n",
       "      <td>5/19/2020</td>\n",
       "      <td>B000006</td>\n",
       "      <td>3.10</td>\n",
       "      <td>No</td>\n",
       "      <td>shorter; more computer</td>\n",
       "      <td>i wish i didn't have to take the training.</td>\n",
       "      <td>$1.1</td>\n",
       "      <td>Yes</td>\n",
       "      <td>100</td>\n",
       "      <td>No</td>\n",
       "      <td>Yes</td>\n",
       "      <td>18</td>\n",
       "      <td>No</td>\n",
       "    </tr>\n",
       "    <tr>\n",
       "      <th>6</th>\n",
       "      <td>ABC789</td>\n",
       "      <td>5/19/2020</td>\n",
       "      <td>B000007</td>\n",
       "      <td>3.60</td>\n",
       "      <td>Yes</td>\n",
       "      <td>shorter</td>\n",
       "      <td>the training is pretty good.</td>\n",
       "      <td>$1.9</td>\n",
       "      <td>Yes</td>\n",
       "      <td>90</td>\n",
       "      <td>No</td>\n",
       "      <td>Yes</td>\n",
       "      <td>19</td>\n",
       "      <td>No</td>\n",
       "    </tr>\n",
       "    <tr>\n",
       "      <th>7</th>\n",
       "      <td>ABC890</td>\n",
       "      <td>5/15/2020</td>\n",
       "      <td>B000008</td>\n",
       "      <td>3.80</td>\n",
       "      <td>Yes</td>\n",
       "      <td>more shoulder-to-shoulder</td>\n",
       "      <td>the training is really helpful.</td>\n",
       "      <td>$1.8</td>\n",
       "      <td>Yes</td>\n",
       "      <td>70</td>\n",
       "      <td>No</td>\n",
       "      <td>Yes</td>\n",
       "      <td>22</td>\n",
       "      <td>Yes</td>\n",
       "    </tr>\n",
       "    <tr>\n",
       "      <th>8</th>\n",
       "      <td>ABC901</td>\n",
       "      <td>5/15/2020</td>\n",
       "      <td>B000009</td>\n",
       "      <td>3.95</td>\n",
       "      <td>Yes</td>\n",
       "      <td>longer; more shoulder-to-shoulder</td>\n",
       "      <td>training helps my team and i perform our jobs ...</td>\n",
       "      <td>$1.8</td>\n",
       "      <td>Yes</td>\n",
       "      <td>75</td>\n",
       "      <td>Yes</td>\n",
       "      <td>Yes</td>\n",
       "      <td>37</td>\n",
       "      <td>Yes</td>\n",
       "    </tr>\n",
       "    <tr>\n",
       "      <th>9</th>\n",
       "      <td>ABC902</td>\n",
       "      <td>5/14/2020</td>\n",
       "      <td>B000010</td>\n",
       "      <td>2.50</td>\n",
       "      <td>No</td>\n",
       "      <td>more computer</td>\n",
       "      <td>training is a waste of time and i don't want i...</td>\n",
       "      <td>$1.1</td>\n",
       "      <td>No</td>\n",
       "      <td>180</td>\n",
       "      <td>No</td>\n",
       "      <td>No</td>\n",
       "      <td>17</td>\n",
       "      <td>No</td>\n",
       "    </tr>\n",
       "  </tbody>\n",
       "</table>\n",
       "</div>"
      ],
      "text/plain": [
       "  Username       Date Restaurant   OSC Receiving  \\\n",
       "0   ABC123  5/20/2020    B000001  4.00       Yes   \n",
       "1   ABC234  5/20/2020    B000002  3.20        No   \n",
       "2   ABC345  5/20/2020    B000003  3.80       Yes   \n",
       "3   ABC456  5/20/2020    B000004  2.80        No   \n",
       "4   ABC567  5/19/2020    B000005  2.50        No   \n",
       "5   ABC678  5/19/2020    B000006  3.10        No   \n",
       "6   ABC789  5/19/2020    B000007  3.60       Yes   \n",
       "7   ABC890  5/15/2020    B000008  3.80       Yes   \n",
       "8   ABC901  5/15/2020    B000009  3.95       Yes   \n",
       "9   ABC902  5/14/2020    B000010  2.50        No   \n",
       "\n",
       "                                 Wish  \\\n",
       "0  shorter; more shoulder-to-shoulder   \n",
       "1           more shoulder-to-shoulder   \n",
       "2                       more computer   \n",
       "3                              longer   \n",
       "4  shorter; more shoulder-to-shoulder   \n",
       "5              shorter; more computer   \n",
       "6                             shorter   \n",
       "7           more shoulder-to-shoulder   \n",
       "8   longer; more shoulder-to-shoulder   \n",
       "9                       more computer   \n",
       "\n",
       "                                            Feedback SalesMil Safety  \\\n",
       "0                               i love the training!    $2.2     Yes   \n",
       "1                           the training is alright.    $2.1     Yes   \n",
       "2                                  training is okay.    $2.0     Yes   \n",
       "3                              training is terrible.    $1.6     Yes   \n",
       "4                               i hate the training.    $1.2      No   \n",
       "5         i wish i didn't have to take the training.    $1.1     Yes   \n",
       "6                       the training is pretty good.    $1.9     Yes   \n",
       "7                    the training is really helpful.    $1.8     Yes   \n",
       "8  training helps my team and i perform our jobs ...    $1.8     Yes   \n",
       "9  training is a waste of time and i don't want i...    $1.1      No   \n",
       "\n",
       "   WindowSeconds BestofBestAward FullyTrained  Staff FollowSchedule  \n",
       "0             65             Yes          Yes     40            Yes  \n",
       "1             80              No          Yes     36            Yes  \n",
       "2             75             Yes          Yes     38            Yes  \n",
       "3            120              No          Yes     17             No  \n",
       "4            130              No           No     13             No  \n",
       "5            100              No          Yes     18             No  \n",
       "6             90              No          Yes     19             No  \n",
       "7             70              No          Yes     22            Yes  \n",
       "8             75             Yes          Yes     37            Yes  \n",
       "9            180              No           No     17             No  "
      ]
     },
     "execution_count": 199,
     "metadata": {},
     "output_type": "execute_result"
    }
   ],
   "source": [
    "complete_df.head(10)"
   ]
  },
  {
   "cell_type": "code",
   "execution_count": 200,
   "metadata": {},
   "outputs": [
    {
     "data": {
      "text/plain": [
       "(10, 14)"
      ]
     },
     "execution_count": 200,
     "metadata": {},
     "output_type": "execute_result"
    }
   ],
   "source": [
    "complete_df.shape"
   ]
  },
  {
   "cell_type": "markdown",
   "metadata": {},
   "source": [
    "## Look at how people responded to the \"Receiving\" question\n",
    "Take a look at how many people said they are receiving what they need to train their people on promotions versus the number of people who do not. \n",
    "\n",
    "\"Normalized\" the counts to represent as a decimal/percentage for both yes/no. Leaving \"normalize\" off displays the actual count of each response."
   ]
  },
  {
   "cell_type": "code",
   "execution_count": 201,
   "metadata": {},
   "outputs": [
    {
     "data": {
      "text/plain": [
       "No     0.5\n",
       "Yes    0.5\n",
       "Name: Receiving, dtype: float64"
      ]
     },
     "execution_count": 201,
     "metadata": {},
     "output_type": "execute_result"
    }
   ],
   "source": [
    "complete_df['Receiving'].value_counts(normalize=True)"
   ]
  },
  {
   "cell_type": "markdown",
   "metadata": {},
   "source": [
    "## Create new functions based on response to \"Receiving\" question\n",
    "\n",
    "Create a new function using a boolean to sort and show only those who said they *do not* receive the training they need. Then, check how many records appear, to gut check it's correct.\n",
    "\n",
    "Repeat for those who said they *do* receive the training they need."
   ]
  },
  {
   "cell_type": "code",
   "execution_count": 202,
   "metadata": {},
   "outputs": [],
   "source": [
    "said_no = complete_df[complete_df['Receiving'] == 'No']"
   ]
  },
  {
   "cell_type": "code",
   "execution_count": 203,
   "metadata": {},
   "outputs": [
    {
     "data": {
      "text/plain": [
       "(5, 14)"
      ]
     },
     "execution_count": 203,
     "metadata": {},
     "output_type": "execute_result"
    }
   ],
   "source": [
    "said_no.shape"
   ]
  },
  {
   "cell_type": "code",
   "execution_count": 204,
   "metadata": {},
   "outputs": [],
   "source": [
    "said_yes = complete_df[complete_df['Receiving'] == 'Yes']"
   ]
  },
  {
   "cell_type": "code",
   "execution_count": 205,
   "metadata": {},
   "outputs": [
    {
     "data": {
      "text/plain": [
       "(5, 14)"
      ]
     },
     "execution_count": 205,
     "metadata": {},
     "output_type": "execute_result"
    }
   ],
   "source": [
    "said_yes.shape"
   ]
  },
  {
   "cell_type": "markdown",
   "metadata": {},
   "source": [
    "## Examine the OSC scores compared to the \"Receiving\" response\n",
    "Print:\n",
    "- Average OSC score of those who said no vs. yes\n",
    "- Median OSC score of no vs.  yes"
   ]
  },
  {
   "cell_type": "code",
   "execution_count": 218,
   "metadata": {},
   "outputs": [
    {
     "name": "stdout",
     "output_type": "stream",
     "text": [
      "2.82 3.8299999999999996 2.8 3.8\n"
     ]
    }
   ],
   "source": [
    "print(said_no['OSC'].mean(),\n",
    "      said_yes['OSC'].mean(),\n",
    "      said_no['OSC'].median(),\n",
    "      said_yes['OSC'].median()\n",
    "     )"
   ]
  },
  {
   "cell_type": "markdown",
   "metadata": {},
   "source": [
    "These results show those who say they are *not* receiving the training they need have lower average and median OSC scores. To continue analysis, create two new functions to group those who have a OSC score greater than 3 and those who have 3 or less."
   ]
  },
  {
   "cell_type": "code",
   "execution_count": 207,
   "metadata": {},
   "outputs": [],
   "source": [
    "over3 = complete_df[complete_df['OSC'] > 3]\n",
    "undereq3 = complete_df[complete_df['OSC'] <= 3]"
   ]
  },
  {
   "cell_type": "markdown",
   "metadata": {},
   "source": [
    "Take a look at the percentage of yes/no responses for those with scores over 3 vs. under or equal to 3."
   ]
  },
  {
   "cell_type": "code",
   "execution_count": 208,
   "metadata": {},
   "outputs": [
    {
     "name": "stdout",
     "output_type": "stream",
     "text": [
      "Yes    0.714286\n",
      "No     0.285714\n",
      "Name: Receiving, dtype: float64\n"
     ]
    }
   ],
   "source": [
    "print(over3['Receiving'].value_counts(normalize=True))"
   ]
  },
  {
   "cell_type": "code",
   "execution_count": 209,
   "metadata": {},
   "outputs": [
    {
     "name": "stdout",
     "output_type": "stream",
     "text": [
      "No    1.0\n",
      "Name: Receiving, dtype: float64\n"
     ]
    }
   ],
   "source": [
    "print(undereq3['Receiving'].value_counts(normalize=True))"
   ]
  },
  {
   "cell_type": "markdown",
   "metadata": {},
   "source": [
    "These results show for those with OSC scores *above* 3, the majority are getting what they need. For those with scores *under or equal to* 3, 100% of them do not feel they're receiving the training they need.\n",
    "\n",
    "Take a look at the sample sizes to make sure it's a fair distribution:"
   ]
  },
  {
   "cell_type": "code",
   "execution_count": 210,
   "metadata": {},
   "outputs": [
    {
     "name": "stdout",
     "output_type": "stream",
     "text": [
      "7\n",
      "3\n"
     ]
    }
   ],
   "source": [
    "print(len(over3))\n",
    "print(len(undereq3))"
   ]
  },
  {
   "cell_type": "markdown",
   "metadata": {},
   "source": [
    "## Analyze Sales, Window Speed, & Staff Counts as related to \"Receiving\""
   ]
  },
  {
   "cell_type": "code",
   "execution_count": null,
   "metadata": {},
   "outputs": [],
   "source": [
    "#complete_df = complete_df.copy()\n",
    "#complete_df['SalesMil'] = complete_df['SalesMil'].apply(lambda x: x.replace('$', '').replace(',', '')\n",
    "                                #if isinstance(x, str) else x).astype(float)"
   ]
  },
  {
   "cell_type": "code",
   "execution_count": null,
   "metadata": {},
   "outputs": [],
   "source": [
    "#complete_df['SalesMil'].apply(type).value_counts()"
   ]
  },
  {
   "cell_type": "code",
   "execution_count": 213,
   "metadata": {
    "scrolled": false
   },
   "outputs": [
    {
     "data": {
      "text/html": [
       "<div>\n",
       "<style scoped>\n",
       "    .dataframe tbody tr th:only-of-type {\n",
       "        vertical-align: middle;\n",
       "    }\n",
       "\n",
       "    .dataframe tbody tr th {\n",
       "        vertical-align: top;\n",
       "    }\n",
       "\n",
       "    .dataframe thead th {\n",
       "        text-align: right;\n",
       "    }\n",
       "</style>\n",
       "<table border=\"1\" class=\"dataframe\">\n",
       "  <thead>\n",
       "    <tr style=\"text-align: right;\">\n",
       "      <th></th>\n",
       "      <th>Username</th>\n",
       "      <th>Date</th>\n",
       "      <th>Restaurant</th>\n",
       "      <th>OSC</th>\n",
       "      <th>Receiving</th>\n",
       "      <th>Wish</th>\n",
       "      <th>Feedback</th>\n",
       "      <th>SalesMil</th>\n",
       "      <th>Safety</th>\n",
       "      <th>WindowSeconds</th>\n",
       "      <th>BestofBestAward</th>\n",
       "      <th>FullyTrained</th>\n",
       "      <th>Staff</th>\n",
       "      <th>FollowSchedule</th>\n",
       "    </tr>\n",
       "  </thead>\n",
       "  <tbody>\n",
       "    <tr>\n",
       "      <th>0</th>\n",
       "      <td>ABC123</td>\n",
       "      <td>5/20/2020</td>\n",
       "      <td>B000001</td>\n",
       "      <td>4.0</td>\n",
       "      <td>Yes</td>\n",
       "      <td>shorter; more shoulder-to-shoulder</td>\n",
       "      <td>i love the training!</td>\n",
       "      <td>2.2</td>\n",
       "      <td>Yes</td>\n",
       "      <td>65</td>\n",
       "      <td>Yes</td>\n",
       "      <td>Yes</td>\n",
       "      <td>40</td>\n",
       "      <td>Yes</td>\n",
       "    </tr>\n",
       "    <tr>\n",
       "      <th>1</th>\n",
       "      <td>ABC234</td>\n",
       "      <td>5/20/2020</td>\n",
       "      <td>B000002</td>\n",
       "      <td>3.2</td>\n",
       "      <td>No</td>\n",
       "      <td>more shoulder-to-shoulder</td>\n",
       "      <td>the training is alright.</td>\n",
       "      <td>2.1</td>\n",
       "      <td>Yes</td>\n",
       "      <td>80</td>\n",
       "      <td>No</td>\n",
       "      <td>Yes</td>\n",
       "      <td>36</td>\n",
       "      <td>Yes</td>\n",
       "    </tr>\n",
       "    <tr>\n",
       "      <th>2</th>\n",
       "      <td>ABC345</td>\n",
       "      <td>5/20/2020</td>\n",
       "      <td>B000003</td>\n",
       "      <td>3.8</td>\n",
       "      <td>Yes</td>\n",
       "      <td>more computer</td>\n",
       "      <td>training is okay.</td>\n",
       "      <td>2.0</td>\n",
       "      <td>Yes</td>\n",
       "      <td>75</td>\n",
       "      <td>Yes</td>\n",
       "      <td>Yes</td>\n",
       "      <td>38</td>\n",
       "      <td>Yes</td>\n",
       "    </tr>\n",
       "  </tbody>\n",
       "</table>\n",
       "</div>"
      ],
      "text/plain": [
       "  Username       Date Restaurant  OSC Receiving  \\\n",
       "0   ABC123  5/20/2020    B000001  4.0       Yes   \n",
       "1   ABC234  5/20/2020    B000002  3.2        No   \n",
       "2   ABC345  5/20/2020    B000003  3.8       Yes   \n",
       "\n",
       "                                 Wish                  Feedback  SalesMil  \\\n",
       "0  shorter; more shoulder-to-shoulder      i love the training!       2.2   \n",
       "1           more shoulder-to-shoulder  the training is alright.       2.1   \n",
       "2                       more computer         training is okay.       2.0   \n",
       "\n",
       "  Safety  WindowSeconds BestofBestAward FullyTrained  Staff FollowSchedule  \n",
       "0    Yes             65             Yes          Yes     40            Yes  \n",
       "1    Yes             80              No          Yes     36            Yes  \n",
       "2    Yes             75             Yes          Yes     38            Yes  "
      ]
     },
     "execution_count": 213,
     "metadata": {},
     "output_type": "execute_result"
    }
   ],
   "source": [
    "complete_df.head(3)"
   ]
  },
  {
   "cell_type": "code",
   "execution_count": 215,
   "metadata": {},
   "outputs": [
    {
     "name": "stdout",
     "output_type": "stream",
     "text": [
      "122.0 75.0 120.0 75.0\n"
     ]
    }
   ],
   "source": [
    "print(said_no['WindowSeconds'].mean(),\n",
    "      said_yes['WindowSeconds'].mean(),\n",
    "      said_no['WindowSeconds'].median(),\n",
    "      said_yes['WindowSeconds'].median()\n",
    "     )"
   ]
  },
  {
   "cell_type": "markdown",
   "metadata": {},
   "source": [
    "Results show those who do not feel they are receiving the training they need have slower window speeds."
   ]
  },
  {
   "cell_type": "code",
   "execution_count": 216,
   "metadata": {},
   "outputs": [
    {
     "name": "stdout",
     "output_type": "stream",
     "text": [
      "20.2 31.2 17.0 37.0\n"
     ]
    }
   ],
   "source": [
    "print(said_no['Staff'].mean(),\n",
    "      said_yes['Staff'].mean(),\n",
    "      said_no['Staff'].median(),\n",
    "      said_yes['Staff'].median()\n",
    "     )"
   ]
  },
  {
   "cell_type": "markdown",
   "metadata": {},
   "source": [
    "Results show those who do not feel they are receiving the training they need have fewer staff (which, logically, may be contributing to their reduced performance as well)."
   ]
  },
  {
   "cell_type": "markdown",
   "metadata": {},
   "source": [
    "## Look at responses to the \"Wish\" question\n",
    "Keeping in mind that people can select multiple wishes, analyze:\n",
    "- How many people selected \"shorter\" training\n",
    "- Split up every entry (split by ; in csv file) and stack so each individual item can be counted; then, check the count for each to find most popular wishes"
   ]
  },
  {
   "cell_type": "code",
   "execution_count": null,
   "metadata": {},
   "outputs": [],
   "source": [
    "wishshorter = complete_df['Wish'].str.contains('shorter')\n",
    "wishshorter.value_counts(normalize=True)"
   ]
  },
  {
   "cell_type": "code",
   "execution_count": null,
   "metadata": {},
   "outputs": [],
   "source": [
    "wishlist = complete_df[\"Wish\"].str.split(';', expand=True)\n",
    "wishlist.stack().value_counts()"
   ]
  },
  {
   "cell_type": "code",
   "execution_count": null,
   "metadata": {},
   "outputs": [],
   "source": []
  }
 ],
 "metadata": {
  "kernelspec": {
   "display_name": "Python 3",
   "language": "python",
   "name": "python3"
  },
  "language_info": {
   "codemirror_mode": {
    "name": "ipython",
    "version": 3
   },
   "file_extension": ".py",
   "mimetype": "text/x-python",
   "name": "python",
   "nbconvert_exporter": "python",
   "pygments_lexer": "ipython3",
   "version": "3.8.2"
  }
 },
 "nbformat": 4,
 "nbformat_minor": 4
}
