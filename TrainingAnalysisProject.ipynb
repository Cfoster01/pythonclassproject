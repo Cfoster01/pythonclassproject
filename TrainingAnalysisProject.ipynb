{
 "cells": [
  {
   "cell_type": "markdown",
   "metadata": {},
   "source": [
    "# Training Analysis Project For Code Louisville Summer 2020 Program"
   ]
  },
  {
   "cell_type": "markdown",
   "metadata": {},
   "source": [
    "## Import pandas and CSV file\n",
    "Import pandas and read the Samplecomments2 CSV file, storing it in df"
   ]
  },
  {
   "cell_type": "code",
   "execution_count": 2,
   "metadata": {},
   "outputs": [],
   "source": [
    "import pandas as pd"
   ]
  },
  {
   "cell_type": "code",
   "execution_count": 3,
   "metadata": {},
   "outputs": [],
   "source": [
    "df = pd.read_csv('Samplecomments2.csv')"
   ]
  },
  {
   "cell_type": "markdown",
   "metadata": {},
   "source": [
    "## Take a look at the data in the CSV \n",
    "Use: \n",
    "- .head to see the data in a spreadsheet format (put 10 in the parentheses to see all 10 rows)\n",
    "- .shape to see how many rows/columns there are"
   ]
  },
  {
   "cell_type": "code",
   "execution_count": 11,
   "metadata": {},
   "outputs": [
    {
     "data": {
      "text/html": [
       "<div>\n",
       "<style scoped>\n",
       "    .dataframe tbody tr th:only-of-type {\n",
       "        vertical-align: middle;\n",
       "    }\n",
       "\n",
       "    .dataframe tbody tr th {\n",
       "        vertical-align: top;\n",
       "    }\n",
       "\n",
       "    .dataframe thead th {\n",
       "        text-align: right;\n",
       "    }\n",
       "</style>\n",
       "<table border=\"1\" class=\"dataframe\">\n",
       "  <thead>\n",
       "    <tr style=\"text-align: right;\">\n",
       "      <th></th>\n",
       "      <th>Username</th>\n",
       "      <th>Date</th>\n",
       "      <th>Restaurant</th>\n",
       "      <th>OSC</th>\n",
       "      <th>Receiving</th>\n",
       "      <th>Wish</th>\n",
       "      <th>Feedback</th>\n",
       "    </tr>\n",
       "  </thead>\n",
       "  <tbody>\n",
       "    <tr>\n",
       "      <th>0</th>\n",
       "      <td>ABC123</td>\n",
       "      <td>5/20/2020</td>\n",
       "      <td>B000001</td>\n",
       "      <td>4.00</td>\n",
       "      <td>Yes</td>\n",
       "      <td>Shorter; More shoulder-to-shoulder</td>\n",
       "      <td>I love the training!</td>\n",
       "    </tr>\n",
       "    <tr>\n",
       "      <th>1</th>\n",
       "      <td>ABC234</td>\n",
       "      <td>5/20/2020</td>\n",
       "      <td>B000002</td>\n",
       "      <td>3.20</td>\n",
       "      <td>No</td>\n",
       "      <td>More shoulder-to-shoulder</td>\n",
       "      <td>The training is alright.</td>\n",
       "    </tr>\n",
       "    <tr>\n",
       "      <th>2</th>\n",
       "      <td>ABC345</td>\n",
       "      <td>5/20/2020</td>\n",
       "      <td>B000003</td>\n",
       "      <td>3.80</td>\n",
       "      <td>Yes</td>\n",
       "      <td>More computer</td>\n",
       "      <td>Training is okay.</td>\n",
       "    </tr>\n",
       "    <tr>\n",
       "      <th>3</th>\n",
       "      <td>ABC456</td>\n",
       "      <td>5/20/2020</td>\n",
       "      <td>B000004</td>\n",
       "      <td>2.80</td>\n",
       "      <td>No</td>\n",
       "      <td>Longer</td>\n",
       "      <td>Training is terrible.</td>\n",
       "    </tr>\n",
       "    <tr>\n",
       "      <th>4</th>\n",
       "      <td>ABC567</td>\n",
       "      <td>5/19/2020</td>\n",
       "      <td>B000005</td>\n",
       "      <td>2.50</td>\n",
       "      <td>No</td>\n",
       "      <td>Shorter; More shoulder-to-shoulder</td>\n",
       "      <td>I hate the training.</td>\n",
       "    </tr>\n",
       "    <tr>\n",
       "      <th>5</th>\n",
       "      <td>ABC678</td>\n",
       "      <td>5/19/2020</td>\n",
       "      <td>B000006</td>\n",
       "      <td>3.10</td>\n",
       "      <td>No</td>\n",
       "      <td>Shorter; More computer</td>\n",
       "      <td>I wish I didn't have to take the training.</td>\n",
       "    </tr>\n",
       "    <tr>\n",
       "      <th>6</th>\n",
       "      <td>ABC789</td>\n",
       "      <td>5/19/2020</td>\n",
       "      <td>B000007</td>\n",
       "      <td>3.60</td>\n",
       "      <td>Yes</td>\n",
       "      <td>Shorter</td>\n",
       "      <td>The training is pretty good.</td>\n",
       "    </tr>\n",
       "    <tr>\n",
       "      <th>7</th>\n",
       "      <td>ABC890</td>\n",
       "      <td>5/15/2020</td>\n",
       "      <td>B000008</td>\n",
       "      <td>3.80</td>\n",
       "      <td>Yes</td>\n",
       "      <td>More shoulder-to-shoulder</td>\n",
       "      <td>The training is really helpful.</td>\n",
       "    </tr>\n",
       "    <tr>\n",
       "      <th>8</th>\n",
       "      <td>ABC901</td>\n",
       "      <td>5/15/2020</td>\n",
       "      <td>B000009</td>\n",
       "      <td>3.95</td>\n",
       "      <td>Yes</td>\n",
       "      <td>Longer; More shoulder-to-shoulder</td>\n",
       "      <td>Training helps my team and I perform our jobs ...</td>\n",
       "    </tr>\n",
       "    <tr>\n",
       "      <th>9</th>\n",
       "      <td>ABC902</td>\n",
       "      <td>5/14/2020</td>\n",
       "      <td>B000010</td>\n",
       "      <td>2.50</td>\n",
       "      <td>No</td>\n",
       "      <td>More computer</td>\n",
       "      <td>Training is a waste of time and I don't want i...</td>\n",
       "    </tr>\n",
       "  </tbody>\n",
       "</table>\n",
       "</div>"
      ],
      "text/plain": [
       "  Username       Date Restaurant   OSC Receiving  \\\n",
       "0   ABC123  5/20/2020    B000001  4.00       Yes   \n",
       "1   ABC234  5/20/2020    B000002  3.20        No   \n",
       "2   ABC345  5/20/2020    B000003  3.80       Yes   \n",
       "3   ABC456  5/20/2020    B000004  2.80        No   \n",
       "4   ABC567  5/19/2020    B000005  2.50        No   \n",
       "5   ABC678  5/19/2020    B000006  3.10        No   \n",
       "6   ABC789  5/19/2020    B000007  3.60       Yes   \n",
       "7   ABC890  5/15/2020    B000008  3.80       Yes   \n",
       "8   ABC901  5/15/2020    B000009  3.95       Yes   \n",
       "9   ABC902  5/14/2020    B000010  2.50        No   \n",
       "\n",
       "                                 Wish  \\\n",
       "0  Shorter; More shoulder-to-shoulder   \n",
       "1           More shoulder-to-shoulder   \n",
       "2                       More computer   \n",
       "3                              Longer   \n",
       "4  Shorter; More shoulder-to-shoulder   \n",
       "5              Shorter; More computer   \n",
       "6                             Shorter   \n",
       "7           More shoulder-to-shoulder   \n",
       "8   Longer; More shoulder-to-shoulder   \n",
       "9                       More computer   \n",
       "\n",
       "                                            Feedback  \n",
       "0                               I love the training!  \n",
       "1                           The training is alright.  \n",
       "2                                  Training is okay.  \n",
       "3                              Training is terrible.  \n",
       "4                               I hate the training.  \n",
       "5         I wish I didn't have to take the training.  \n",
       "6                       The training is pretty good.  \n",
       "7                    The training is really helpful.  \n",
       "8  Training helps my team and I perform our jobs ...  \n",
       "9  Training is a waste of time and I don't want i...  "
      ]
     },
     "execution_count": 11,
     "metadata": {},
     "output_type": "execute_result"
    }
   ],
   "source": [
    "df.head(10)"
   ]
  },
  {
   "cell_type": "code",
   "execution_count": 6,
   "metadata": {},
   "outputs": [
    {
     "data": {
      "text/plain": [
       "(10, 7)"
      ]
     },
     "execution_count": 6,
     "metadata": {},
     "output_type": "execute_result"
    }
   ],
   "source": [
    "df.shape"
   ]
  },
  {
   "cell_type": "markdown",
   "metadata": {},
   "source": [
    "## Look at how people responded to the \"Receiving\" question\n",
    "Take a look at how many people said they are receiving what they need to train their people on promotions versus the number of people who do not (\"normalize\" the counts to represent as a percentage for both yes/no)."
   ]
  },
  {
   "cell_type": "code",
   "execution_count": 9,
   "metadata": {},
   "outputs": [
    {
     "data": {
      "text/plain": [
       "Yes    0.5\n",
       "No     0.5\n",
       "Name: Receiving, dtype: float64"
      ]
     },
     "execution_count": 9,
     "metadata": {},
     "output_type": "execute_result"
    }
   ],
   "source": [
    "df['Receiving'].value_counts(normalize=True)"
   ]
  },
  {
   "cell_type": "markdown",
   "metadata": {},
   "source": [
    "## Examine the OSC scores compared to the \"Receiving\" response\n",
    "Print:\n",
    "- Average OSC score of those who said no vs. yes\n",
    "- Median OSC score of no vs.  yes"
   ]
  },
  {
   "cell_type": "code",
   "execution_count": null,
   "metadata": {},
   "outputs": [],
   "source": []
  },
  {
   "cell_type": "markdown",
   "metadata": {},
   "source": [
    "## Look at responses to the \"Wish\" question\n",
    "Keeping in mind that people can select multiple wishes, analyze:\n",
    "- How many people selected shorter training\n",
    "- Splitting up every entry and stack so each individual item can be counted; then, check the count for each"
   ]
  },
  {
   "cell_type": "code",
   "execution_count": null,
   "metadata": {},
   "outputs": [],
   "source": []
  }
 ],
 "metadata": {
  "kernelspec": {
   "display_name": "Python 3",
   "language": "python",
   "name": "python3"
  },
  "language_info": {
   "codemirror_mode": {
    "name": "ipython",
    "version": 3
   },
   "file_extension": ".py",
   "mimetype": "text/x-python",
   "name": "python",
   "nbconvert_exporter": "python",
   "pygments_lexer": "ipython3",
   "version": "3.8.2"
  }
 },
 "nbformat": 4,
 "nbformat_minor": 4
}
